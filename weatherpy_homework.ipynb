{
 "cells": [
  {
   "cell_type": "code",
   "execution_count": 8,
   "metadata": {},
   "outputs": [],
   "source": [
    "# Dependencies and Setup\n",
    "import matplotlib.pyplot as plt\n",
    "import pandas as pd\n",
    "import numpy as np\n",
    "import requests\n",
    "import time\n",
    "from datetime import datetime\n",
    "\n",
    "# Import API key\n",
    "import config as api_key\n",
    "\n",
    "# Incorporated citipy to determine city based on latitude and longitude\n",
    "from citipy import citipy\n",
    "\n",
    "# Output File (CSV)\n",
    "output_data_file = \"output_data/cities.csv\"\n",
    "\n",
    "# Range of latitudes and longitudes\n",
    "lat_range = (-90, 90)\n",
    "lng_range = (-180, 180)"
   ]
  },
  {
   "cell_type": "code",
   "execution_count": 17,
   "metadata": {},
   "outputs": [
    {
     "data": {
      "text/plain": [
       "630"
      ]
     },
     "execution_count": 17,
     "metadata": {},
     "output_type": "execute_result"
    }
   ],
   "source": [
    "lat_lngs = []\n",
    "cities = []\n",
    "test_cities = ['London', 'Beijing', 'Berlin', 'Sydney']\n",
    "\n",
    "# Create a set of random lat and lng combinations\n",
    "lats = np.random.uniform(low=-90.000, high=90.000, size=1500)\n",
    "lngs = np.random.uniform(low=-180.000, high=180.000, size=1500)\n",
    "lat_lngs = zip(lats, lngs)\n",
    "\n",
    "# Identify nearest city for each lat, lng combination\n",
    "for lat_lng in lat_lngs:\n",
    "    city = citipy.nearest_city(lat_lng[0], lat_lng[1]).city_name\n",
    "    \n",
    "    # If the city is unique, then add it to a our cities list\n",
    "    if city not in cities:\n",
    "        cities.append(city)\n",
    "\n",
    "# Print the city count to confirm sufficient count\n",
    "len(cities)"
   ]
  },
  {
   "cell_type": "code",
   "execution_count": 18,
   "metadata": {},
   "outputs": [
    {
     "name": "stdout",
     "output_type": "stream",
     "text": [
      "Processing Record 1 of Set 69\n",
      "Processing Record 2 of Set 87\n",
      "Processing Record 3 of Set 22\n",
      "Processing Record 4 of Set 53\n",
      "Processing Record 5 of Set 31\n",
      "Processing Record 6 of Set 40\n",
      "Processing Record 7 of Set 56\n",
      "Processing Record 8 of Set 96\n",
      "Processing Record 9 of Set 43\n",
      "Processing Record 10 of Set 99\n"
     ]
    }
   ],
   "source": [
    "#Build function that makes a call to the api and stores each city's weather data in a list of dictionaries. \n",
    "#OpenWeather's responses come back as a nested dictionary\n",
    "#Test a function that goes through the list and returns a list of dictionaries. \n",
    "\n",
    "#Outcome:\n",
    "#The function can iterate through a list. For our purposes, it's the list of cities created above. \n",
    "#Be sure that for the purposes of the print, we account for the zero index. See above. \n",
    "#error handling should make an exception for cities missing from the database. \n",
    "#Test to return dictionaries was a success. \n",
    "\n",
    "set_list = {}\n",
    "response_set = [] \n",
    "\n",
    "query_url = 'api.openweathermap.org/data/2.5/weather?q='\n",
    "\n",
    "def get_cities(indices):\n",
    "    for x in range(len(indices)):\n",
    "        print(f\"Processing Record {x + 1} of Set {set_list[0] + 1}\")\n",
    "        \n",
    "        # Get one of the posts\n",
    "        city_response = requests.get(query_url + str(indices[x]))\n",
    "        \n",
    "        try:\n",
    "            indicies[x]\n",
    "        except: KeyError\n",
    "            print(\"City not found. Skipping...\")\n",
    "\n",
    "        # Save post's JSON\n",
    "        if response not in response_set:\n",
    "            response_set.append(city_response.json())\n",
    "            \n",
    "    \n",
    "    set_list.update({str(datetime.datetime): response_set})\n",
    "        \n",
    "        \n",
    "        \n",
    "get_cities(test_cities)"
   ]
  },
  {
   "cell_type": "code",
   "execution_count": null,
   "metadata": {},
   "outputs": [],
   "source": []
  },
  {
   "cell_type": "code",
   "execution_count": null,
   "metadata": {},
   "outputs": [],
   "source": []
  }
 ],
 "metadata": {
  "kernelspec": {
   "display_name": "Python3 (PythonData)",
   "language": "python",
   "name": "pythondata"
  },
  "language_info": {
   "codemirror_mode": {
    "name": "ipython",
    "version": 3
   },
   "file_extension": ".py",
   "mimetype": "text/x-python",
   "name": "python",
   "nbconvert_exporter": "python",
   "pygments_lexer": "ipython3",
   "version": "3.7.1"
  }
 },
 "nbformat": 4,
 "nbformat_minor": 2
}
