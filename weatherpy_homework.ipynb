{
 "cells": [
  {
   "cell_type": "markdown",
   "metadata": {},
   "source": [
    "<h1>Does Location Relative to the Equator Correlate Weather Pattners?</h1>"
   ]
  },
  {
   "cell_type": "markdown",
   "metadata": {},
   "source": [
    "<h2>Dependencies and Range of Latitude and Longitude</h2>"
   ]
  },
  {
   "cell_type": "code",
   "execution_count": 1,
   "metadata": {},
   "outputs": [],
   "source": [
    "# Dependencies and Setup\n",
    "import csv\n",
    "import matplotlib.pyplot as plt\n",
    "import pandas as pd\n",
    "import numpy as np\n",
    "import requests\n",
    "import time\n",
    "\n",
    "# Import API key\n",
    "from config import api_key\n",
    "\n",
    "# Incorporated citipy to determine city based on latitude and longitude\n",
    "from citipy import citipy\n",
    "\n",
    "# Range of latitudes and longitudes\n",
    "lat_range = (-90, 90)\n",
    "lng_range = (-180, 180)"
   ]
  },
  {
   "cell_type": "markdown",
   "metadata": {},
   "source": [
    "<h2>Acquire Cities</h2>"
   ]
  },
  {
   "cell_type": "code",
   "execution_count": 2,
   "metadata": {},
   "outputs": [
    {
     "data": {
      "text/plain": [
       "626"
      ]
     },
     "execution_count": 2,
     "metadata": {},
     "output_type": "execute_result"
    }
   ],
   "source": [
    "lat_lngs = []\n",
    "cities = []\n",
    "\n",
    "# Create a set of random lat and lng combinations\n",
    "lats = np.random.uniform(low=-90.000, high=90.000, size=1500)\n",
    "lngs = np.random.uniform(low=-180.000, high=180.000, size=1500)\n",
    "lat_lngs = zip(lats, lngs)\n",
    "\n",
    "# Identify nearest city for each lat, lng combination\n",
    "for lat_lng in lat_lngs:\n",
    "    city = citipy.nearest_city(lat_lng[0], lat_lng[1]).city_name\n",
    "    \n",
    "    # If the city is unique, then add it to a our cities list\n",
    "    if city not in cities:\n",
    "        cities.append(city)\n",
    "\n",
    "# Print the city count to confirm sufficient count\n",
    "len(cities)"
   ]
  },
  {
   "cell_type": "markdown",
   "metadata": {},
   "source": [
    "<h2>Pull Weather Data By City</h2>"
   ]
  },
  {
   "cell_type": "code",
   "execution_count": 4,
   "metadata": {
    "scrolled": false
   },
   "outputs": [],
   "source": [
    "#Function to iterate through cities and return dictionaries of weather data per city\n",
    "city_weathers = []\n",
    "\n",
    "def get_weather(indices):\n",
    "    \n",
    "    #for loop to go through the list of cities\n",
    "    for city in range(len(indices)):\n",
    "        \n",
    "        #querey url\n",
    "        base_url = 'http://api.openweathermap.org/data/2.5/weather?q='\n",
    "        query_url = base_url + str(indices[city]) + '&units=imperial' +'&appid=' + api_key\n",
    "        \n",
    "        # Get one of the posts\n",
    "        city_response = requests.get(query_url).json()\n",
    "        \n",
    "        #error handling\n",
    "        try:\n",
    "            print(f\"Processing Record {city + 1} of Set 1\")\n",
    "        \n",
    "            #assign variables \n",
    "            city_country = city_response['sys']['country']\n",
    "            city_clouds = city_response['clouds']['all']\n",
    "            city_date = city_response['dt']\n",
    "            city_humidity = city_response['main']['humidity']\n",
    "            city_lat = city_response['coord']['lat']\n",
    "            city_lng = city_response['coord']['lon']\n",
    "            city_temp = city_response['main']['temp_max']\n",
    "            city_wind = city_response['wind']['speed']\n",
    "        \n",
    "            city_weather = {\n",
    "                \"city\": indices[city],\n",
    "                \"country\": city_country,\n",
    "                \"date\": city_date,\n",
    "                \"cloudiness\": city_clouds,\n",
    "                \"humidity\": city_humidity,\n",
    "                \"latitude\": city_lat,\n",
    "                \"longitude\": city_lng,\n",
    "                \"max temperature\": city_temp,\n",
    "                \"wind speed\": city_wind\n",
    "                }\n",
    "        \n",
    "        \n",
    "        except (KeyError, IndexError):\n",
    "            print(\"Missing field/result... skipping.\")\n",
    "            city_weather = {\n",
    "                \"city\": np.nan,\n",
    "                \"country\": np.nan,\n",
    "                \"date\": np.nan,\n",
    "                \"cloudiness\": np.nan,\n",
    "                \"humidity\": np.nan,\n",
    "                \"latitude\": np.nan,\n",
    "                \"longitude\": np.nan,\n",
    "                \"max temperature\": np.nan,\n",
    "                \"wind speed\": np.nan\n",
    "            }\n",
    "        \n",
    "        #append each dictionary to the list called \n",
    "        if city_weather not in city_weathers:\n",
    "            city_weathers.append(city_weather)\n",
    "\n",
    "        \n",
    "get_weather(cities)"
   ]
  },
  {
   "cell_type": "code",
   "execution_count": null,
   "metadata": {},
   "outputs": [],
   "source": [
    "len(city_weathers)"
   ]
  },
  {
   "cell_type": "markdown",
   "metadata": {},
   "source": [
    "<h2>Send Output to CSV</h2>"
   ]
  },
  {
   "cell_type": "code",
   "execution_count": null,
   "metadata": {},
   "outputs": [],
   "source": [
    "#write city_weathers to a csv\n",
    "\n",
    "keys = city_weathers[0].keys()\n",
    "\n",
    "output_data_file = \"cities.csv\"\n",
    "\n",
    "with open(output_data_file, 'w') as f:\n",
    "        writer = csv.DictWriter(f, fieldnames=keys)\n",
    "        writer.writeheader()\n",
    "        for weather in city_weathers:\n",
    "            writer.writerow(weather)"
   ]
  },
  {
   "cell_type": "markdown",
   "metadata": {},
   "source": [
    "<h2>Display Dataframe</h2>"
   ]
  },
  {
   "cell_type": "code",
   "execution_count": null,
   "metadata": {
    "scrolled": true
   },
   "outputs": [],
   "source": [
    "#display the dataframe\n",
    "\n",
    "df = pd.DataFrame(city_weathers)\n",
    "weather_df = df.dropna()\n",
    "weather_df.count()"
   ]
  },
  {
   "cell_type": "code",
   "execution_count": null,
   "metadata": {},
   "outputs": [],
   "source": [
    "weather_df.head()"
   ]
  },
  {
   "cell_type": "markdown",
   "metadata": {},
   "source": [
    "<h2>Visualization</h2>"
   ]
  },
  {
   "cell_type": "markdown",
   "metadata": {},
   "source": [
    "<h3>Latitude vs Temperature Plot</h3>"
   ]
  },
  {
   "cell_type": "code",
   "execution_count": null,
   "metadata": {},
   "outputs": [],
   "source": [
    "lat_temp_data = weather_df.groupby('city').mean()\n",
    "y_axis_temp = lat_temp_data['max temperature']\n",
    "x_axis_temp = lat_temp_data['latitude']\n",
    "plt.scatter(x_axis, y_axis, color='blue', edgecolor='black', alpha=0.5)\n",
    "plt.xlabel(\"Latitude\")\n",
    "plt.ylabel(\"Max Temperature (F)\")\n",
    "plt.grid()\n",
    "plt.title(\"City Latitude vs Max Temperature \")\n",
    "plt.savefig(\"citylattemp.png\")\n",
    "plt.show()"
   ]
  },
  {
   "cell_type": "markdown",
   "metadata": {},
   "source": [
    "<h4>Max Temperatures Relative to City Latitude</h4>\n",
    "<p>Judging by the random sampling of coordinates taken from citipy, the city selection has a broad range of city locations. Of the 564 cities that came back with weather data, 398 cities were located at or above the equator, and 166 cities were located at or below the equator. As we move below the equator, we can see that the high temperature for the day remained above 60 degrees Fahrenheit up to the -40 degrees south Latitude point. That is a significantly longer range of high temperatures than those above the equator, where temperatures begin to drop below 60 degrees Fahrenheit at about the 20 degrees north Latitude point. This has a lot to do with the fact that we're approaching fall south of the equator. Temperatures can be expected to be more mild this time of year. In the north-western and north-eastern hemispheres above the equator, we are experiencing a long, frigid winter. At roughly the equator, temperatures remain above 60 degrees Fahrenheit, surprisingly cool. Between -40 degrees south Latitude and 20 degrees north Latitude, only 5 cities logged a high temperature for the day over 90 degrees Fahrenheit. Given the persistent colloquialism that the closer to the equator one goes the hotter it gets, it seems that city data for early March is recording milder temperatures.</p>"
   ]
  },
  {
   "cell_type": "markdown",
   "metadata": {},
   "source": [
    "<h3>Latitude vs Humidity Plot</h3>"
   ]
  },
  {
   "cell_type": "code",
   "execution_count": null,
   "metadata": {
    "scrolled": false
   },
   "outputs": [],
   "source": [
    "lat_humid_data = weather_df.groupby('city').mean()\n",
    "x_axis_humid = lat_humid_data['latitude']\n",
    "y_axis_humid = lat_humid_data['humidity']\n",
    "plt.scatter(x_axis_humid, y_axis_humid, color='blue', edgecolor=\"black\", alpha=0.5)\n",
    "plt.xlabel(\"Latitude\")\n",
    "plt.ylabel(\"Humidity (%)\")\n",
    "plt.title(\"City Latitude vs Humidity \")\n",
    "plt.grid()\n",
    "plt.savefig(\"citylathumid.png\")\n",
    "plt.show()"
   ]
  },
  {
   "cell_type": "markdown",
   "metadata": {},
   "source": [
    "<h3>Latitude vs Cloudiness Plot</h3>"
   ]
  },
  {
   "cell_type": "code",
   "execution_count": null,
   "metadata": {},
   "outputs": [],
   "source": [
    "lat_clouds_data = weather_df.groupby('city').mean()\n",
    "x_axis_clouds = lat_clouds_data['latitude']\n",
    "y_axis_clouds = lat_clouds_data['cloudiness']\n",
    "plt.scatter(x_axis_clouds, y_axis_clouds, color='blue', edgecolor=\"black\", alpha=0.5)\n",
    "plt.xlabel(\"Latitude\")\n",
    "plt.ylabel(\"Cloudiness (%)\")\n",
    "plt.title(\"City Latitude vs Cloudiness \")\n",
    "plt.grid()\n",
    "plt.savefig(\"citylatclouds.png\")\n",
    "plt.show()"
   ]
  },
  {
   "cell_type": "markdown",
   "metadata": {},
   "source": [
    "<h4>Cloudiness vs Location Relative to the Equator</h4>\n",
    "<p>It would appear that directly near and south of the equator (north of -20 degrees south Latitude) cloudiness tends to taper off that day. Though relative humidity plays a role in cloud formation, it would appear that it is not necessarily a cause of cloud formation, which is the presence of water condensation in the atmosphere. Normally, clouds form when warm, humid air from the ground rises to an elevation cool enough to form condensation. As we see in the humidity figure, a large cluster of cities near the equator seemed to experience high humidity (approaching 100%). On the same day, same set of cities on the cloudiness figure, there is a gap corresponding to the cluster on the humidity figure. Some other mitigating factor plays a role in cloud formation, and it is my belief that elevation and population density may be the missing links. Without at least the elevation levels of those cities to visualize beside the humidity and cloudiness figures, there is no other reasonable explanation for the lack of clouds in cities near the equator experiencing near 100% relative humidity.</p>"
   ]
  },
  {
   "cell_type": "markdown",
   "metadata": {},
   "source": [
    "<h3>Latitude vs Wind Speed</h3>"
   ]
  },
  {
   "cell_type": "code",
   "execution_count": null,
   "metadata": {
    "scrolled": true
   },
   "outputs": [],
   "source": [
    "lat_wind_data = weather_df.groupby('city').mean()\n",
    "x_axis_wind = lat_wind_data['latitude']\n",
    "y_axis_wind = lat_wind_data['wind speed']\n",
    "plt.scatter(x_axis_wind, y_axis_wind, color='blue', edgecolor=\"black\", alpha=0.5)\n",
    "plt.xlabel(\"Latitude\")\n",
    "plt.ylabel(\"Wind Speed (mph)\")\n",
    "plt.title(\"City Latitude vs Wind Speed \")\n",
    "plt.grid()\n",
    "plt.savefig(\"citylatwinds.png\")\n",
    "plt.show()"
   ]
  },
  {
   "cell_type": "markdown",
   "metadata": {},
   "source": [
    "<h4>City Wind Speeds Relative to the Equator</h4>\n",
    "<p>One cannot observe wind speed without also observing temperature. For example, the five cities noted previously whose high temperatures rose above 90 degrees Fahreheit can also be seen here as random outliers. Random they are not. As temperatures rise, air pressure increases. As air preassure increases from one area to the next, wind speeds increase. Also notice how those five are further away from the equator, where preasure changes are more volatile. Again, I don't see this as unusual. In the mild and temperate temperatures recorded yesterday, and given their spread in the temperature plot, we can see that the 166 cities recorded between -40 degrees south Latitude and 20 degrees north Latitude have a fairly concentrated selection of cities of low or zero windspeeds near the equator. As one moves further north of the equator, wind speeds become more varied, reaching above 22mph at roughly 40 degrees north Latitude. In other words, the relative uniformity of moderate temperatures nearer to the equator means longer gradients of air preassure, therefore slower wind speeds.</p>"
   ]
  }
 ],
 "metadata": {
  "kernelspec": {
   "display_name": "Python3 (PythonData)",
   "language": "python",
   "name": "pythondata"
  },
  "language_info": {
   "codemirror_mode": {
    "name": "ipython",
    "version": 3
   },
   "file_extension": ".py",
   "mimetype": "text/x-python",
   "name": "python",
   "nbconvert_exporter": "python",
   "pygments_lexer": "ipython3",
   "version": "3.7.1"
  }
 },
 "nbformat": 4,
 "nbformat_minor": 2
}
